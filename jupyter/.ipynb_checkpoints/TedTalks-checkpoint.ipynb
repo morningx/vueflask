{
 "cells": [
  {
   "cell_type": "code",
   "execution_count": 140,
   "id": "3ede8399",
   "metadata": {},
   "outputs": [],
   "source": [
    "%matplotlib inline\n",
    "import pandas as pd\n",
    "import numpy as np\n",
    "from scipy import stats\n",
    "import matplotlib.pyplot as plt\n",
    "import seaborn as sns\n",
    "import datetime\n",
    "import warnings \n",
    "warnings.filterwarnings (\"ignore\") \n",
    "import matplotlib.pyplot as plt\n",
    "plt.rcParams['font.sans-serif'] = ['YuGothic']"
   ]
  },
  {
   "cell_type": "code",
   "execution_count": 141,
   "id": "80af8598",
   "metadata": {},
   "outputs": [
    {
     "data": {
      "text/html": [
       "<div>\n",
       "<style scoped>\n",
       "    .dataframe tbody tr th:only-of-type {\n",
       "        vertical-align: middle;\n",
       "    }\n",
       "\n",
       "    .dataframe tbody tr th {\n",
       "        vertical-align: top;\n",
       "    }\n",
       "\n",
       "    .dataframe thead th {\n",
       "        text-align: right;\n",
       "    }\n",
       "</style>\n",
       "<table border=\"1\" class=\"dataframe\">\n",
       "  <thead>\n",
       "    <tr style=\"text-align: right;\">\n",
       "      <th></th>\n",
       "      <th>comments</th>\n",
       "      <th>description</th>\n",
       "      <th>duration</th>\n",
       "      <th>event</th>\n",
       "      <th>film_date</th>\n",
       "      <th>languages</th>\n",
       "      <th>main_speaker</th>\n",
       "      <th>name</th>\n",
       "      <th>num_speaker</th>\n",
       "      <th>published_date</th>\n",
       "      <th>ratings</th>\n",
       "      <th>related_talks</th>\n",
       "      <th>speaker_occupation</th>\n",
       "      <th>tags</th>\n",
       "      <th>title</th>\n",
       "      <th>url</th>\n",
       "      <th>views</th>\n",
       "    </tr>\n",
       "  </thead>\n",
       "  <tbody>\n",
       "    <tr>\n",
       "      <th>0</th>\n",
       "      <td>4553</td>\n",
       "      <td>Sir Ken Robinson makes an entertaining and pro...</td>\n",
       "      <td>1164</td>\n",
       "      <td>TED2006</td>\n",
       "      <td>1140825600</td>\n",
       "      <td>60</td>\n",
       "      <td>Ken Robinson</td>\n",
       "      <td>Ken Robinson: Do schools kill creativity?</td>\n",
       "      <td>1</td>\n",
       "      <td>1151367060</td>\n",
       "      <td>[{'id': 7, 'name': 'Funny', 'count': 19645}, {...</td>\n",
       "      <td>[{'id': 865, 'hero': 'https://pe.tedcdn.com/im...</td>\n",
       "      <td>Author/educator</td>\n",
       "      <td>['children', 'creativity', 'culture', 'dance',...</td>\n",
       "      <td>Do schools kill creativity?</td>\n",
       "      <td>https://www.ted.com/talks/ken_robinson_says_sc...</td>\n",
       "      <td>47227110</td>\n",
       "    </tr>\n",
       "    <tr>\n",
       "      <th>1</th>\n",
       "      <td>265</td>\n",
       "      <td>With the same humor and humanity he exuded in ...</td>\n",
       "      <td>977</td>\n",
       "      <td>TED2006</td>\n",
       "      <td>1140825600</td>\n",
       "      <td>43</td>\n",
       "      <td>Al Gore</td>\n",
       "      <td>Al Gore: Averting the climate crisis</td>\n",
       "      <td>1</td>\n",
       "      <td>1151367060</td>\n",
       "      <td>[{'id': 7, 'name': 'Funny', 'count': 544}, {'i...</td>\n",
       "      <td>[{'id': 243, 'hero': 'https://pe.tedcdn.com/im...</td>\n",
       "      <td>Climate advocate</td>\n",
       "      <td>['alternative energy', 'cars', 'climate change...</td>\n",
       "      <td>Averting the climate crisis</td>\n",
       "      <td>https://www.ted.com/talks/al_gore_on_averting_...</td>\n",
       "      <td>3200520</td>\n",
       "    </tr>\n",
       "  </tbody>\n",
       "</table>\n",
       "</div>"
      ],
      "text/plain": [
       "   comments                                        description  duration  \\\n",
       "0      4553  Sir Ken Robinson makes an entertaining and pro...      1164   \n",
       "1       265  With the same humor and humanity he exuded in ...       977   \n",
       "\n",
       "     event   film_date  languages  main_speaker  \\\n",
       "0  TED2006  1140825600         60  Ken Robinson   \n",
       "1  TED2006  1140825600         43       Al Gore   \n",
       "\n",
       "                                        name  num_speaker  published_date  \\\n",
       "0  Ken Robinson: Do schools kill creativity?            1      1151367060   \n",
       "1       Al Gore: Averting the climate crisis            1      1151367060   \n",
       "\n",
       "                                             ratings  \\\n",
       "0  [{'id': 7, 'name': 'Funny', 'count': 19645}, {...   \n",
       "1  [{'id': 7, 'name': 'Funny', 'count': 544}, {'i...   \n",
       "\n",
       "                                       related_talks speaker_occupation  \\\n",
       "0  [{'id': 865, 'hero': 'https://pe.tedcdn.com/im...    Author/educator   \n",
       "1  [{'id': 243, 'hero': 'https://pe.tedcdn.com/im...   Climate advocate   \n",
       "\n",
       "                                                tags  \\\n",
       "0  ['children', 'creativity', 'culture', 'dance',...   \n",
       "1  ['alternative energy', 'cars', 'climate change...   \n",
       "\n",
       "                         title  \\\n",
       "0  Do schools kill creativity?   \n",
       "1  Averting the climate crisis   \n",
       "\n",
       "                                                 url     views  \n",
       "0  https://www.ted.com/talks/ken_robinson_says_sc...  47227110  \n",
       "1  https://www.ted.com/talks/al_gore_on_averting_...   3200520  "
      ]
     },
     "execution_count": 141,
     "metadata": {},
     "output_type": "execute_result"
    }
   ],
   "source": [
    "ted = pd.read_csv(r\"/Users/hellox/Documents/Item/TedTalks/ted_main.csv\")\n",
    "ted.head(2)"
   ]
  },
  {
   "cell_type": "code",
   "execution_count": 142,
   "id": "b7e17f89",
   "metadata": {},
   "outputs": [
    {
     "name": "stdout",
     "output_type": "stream",
     "text": [
      "该数据集共有 2550 行 17 列\n"
     ]
    }
   ],
   "source": [
    "print(\"该数据集共有 {} 行 {} 列\".format(ted.shape[0],ted.shape[1])) "
   ]
  },
  {
   "cell_type": "code",
   "execution_count": 143,
   "id": "92caac7f",
   "metadata": {},
   "outputs": [
    {
     "data": {
      "text/html": [
       "<div>\n",
       "<style scoped>\n",
       "    .dataframe tbody tr th:only-of-type {\n",
       "        vertical-align: middle;\n",
       "    }\n",
       "\n",
       "    .dataframe tbody tr th {\n",
       "        vertical-align: top;\n",
       "    }\n",
       "\n",
       "    .dataframe thead th {\n",
       "        text-align: right;\n",
       "    }\n",
       "</style>\n",
       "<table border=\"1\" class=\"dataframe\">\n",
       "  <thead>\n",
       "    <tr style=\"text-align: right;\">\n",
       "      <th></th>\n",
       "      <th>name</th>\n",
       "      <th>title</th>\n",
       "      <th>description</th>\n",
       "      <th>main_speaker</th>\n",
       "      <th>speaker_occupation</th>\n",
       "      <th>num_speaker</th>\n",
       "      <th>duration</th>\n",
       "      <th>event</th>\n",
       "      <th>film_date</th>\n",
       "      <th>published_date</th>\n",
       "      <th>comments</th>\n",
       "      <th>tags</th>\n",
       "      <th>languages</th>\n",
       "      <th>ratings</th>\n",
       "      <th>related_talks</th>\n",
       "      <th>url</th>\n",
       "      <th>views</th>\n",
       "    </tr>\n",
       "  </thead>\n",
       "  <tbody>\n",
       "    <tr>\n",
       "      <th>0</th>\n",
       "      <td>Ken Robinson: Do schools kill creativity?</td>\n",
       "      <td>Do schools kill creativity?</td>\n",
       "      <td>Sir Ken Robinson makes an entertaining and pro...</td>\n",
       "      <td>Ken Robinson</td>\n",
       "      <td>Author/educator</td>\n",
       "      <td>1</td>\n",
       "      <td>1164</td>\n",
       "      <td>TED2006</td>\n",
       "      <td>1140825600</td>\n",
       "      <td>1151367060</td>\n",
       "      <td>4553</td>\n",
       "      <td>['children', 'creativity', 'culture', 'dance',...</td>\n",
       "      <td>60</td>\n",
       "      <td>[{'id': 7, 'name': 'Funny', 'count': 19645}, {...</td>\n",
       "      <td>[{'id': 865, 'hero': 'https://pe.tedcdn.com/im...</td>\n",
       "      <td>https://www.ted.com/talks/ken_robinson_says_sc...</td>\n",
       "      <td>47227110</td>\n",
       "    </tr>\n",
       "    <tr>\n",
       "      <th>1</th>\n",
       "      <td>Al Gore: Averting the climate crisis</td>\n",
       "      <td>Averting the climate crisis</td>\n",
       "      <td>With the same humor and humanity he exuded in ...</td>\n",
       "      <td>Al Gore</td>\n",
       "      <td>Climate advocate</td>\n",
       "      <td>1</td>\n",
       "      <td>977</td>\n",
       "      <td>TED2006</td>\n",
       "      <td>1140825600</td>\n",
       "      <td>1151367060</td>\n",
       "      <td>265</td>\n",
       "      <td>['alternative energy', 'cars', 'climate change...</td>\n",
       "      <td>43</td>\n",
       "      <td>[{'id': 7, 'name': 'Funny', 'count': 544}, {'i...</td>\n",
       "      <td>[{'id': 243, 'hero': 'https://pe.tedcdn.com/im...</td>\n",
       "      <td>https://www.ted.com/talks/al_gore_on_averting_...</td>\n",
       "      <td>3200520</td>\n",
       "    </tr>\n",
       "  </tbody>\n",
       "</table>\n",
       "</div>"
      ],
      "text/plain": [
       "                                        name                        title  \\\n",
       "0  Ken Robinson: Do schools kill creativity?  Do schools kill creativity?   \n",
       "1       Al Gore: Averting the climate crisis  Averting the climate crisis   \n",
       "\n",
       "                                         description  main_speaker  \\\n",
       "0  Sir Ken Robinson makes an entertaining and pro...  Ken Robinson   \n",
       "1  With the same humor and humanity he exuded in ...       Al Gore   \n",
       "\n",
       "  speaker_occupation  num_speaker  duration    event   film_date  \\\n",
       "0    Author/educator            1      1164  TED2006  1140825600   \n",
       "1   Climate advocate            1       977  TED2006  1140825600   \n",
       "\n",
       "   published_date  comments  \\\n",
       "0      1151367060      4553   \n",
       "1      1151367060       265   \n",
       "\n",
       "                                                tags  languages  \\\n",
       "0  ['children', 'creativity', 'culture', 'dance',...         60   \n",
       "1  ['alternative energy', 'cars', 'climate change...         43   \n",
       "\n",
       "                                             ratings  \\\n",
       "0  [{'id': 7, 'name': 'Funny', 'count': 19645}, {...   \n",
       "1  [{'id': 7, 'name': 'Funny', 'count': 544}, {'i...   \n",
       "\n",
       "                                       related_talks  \\\n",
       "0  [{'id': 865, 'hero': 'https://pe.tedcdn.com/im...   \n",
       "1  [{'id': 243, 'hero': 'https://pe.tedcdn.com/im...   \n",
       "\n",
       "                                                 url     views  \n",
       "0  https://www.ted.com/talks/ken_robinson_says_sc...  47227110  \n",
       "1  https://www.ted.com/talks/al_gore_on_averting_...   3200520  "
      ]
     },
     "execution_count": 143,
     "metadata": {},
     "output_type": "execute_result"
    }
   ],
   "source": [
    "ted = ted[['name', 'title', 'description', 'main_speaker', 'speaker_occupation', 'num_speaker', 'duration', 'event', 'film_date', 'published_date', 'comments', 'tags', 'languages', 'ratings', 'related_talks', 'url', 'views']]\n",
    "ted.head(2)"
   ]
  },
  {
   "cell_type": "raw",
   "id": "dc605df7",
   "metadata": {},
   "source": [
    "特征\t解释\n",
    "name\t演讲的正式名称（主要发言人+标题）\n",
    "title\t演讲的标题\n",
    "description\t演讲内容\n",
    "main_speaker\t主要发言人\n",
    "speaker_occupation\t主要发言人的职业\n",
    "num_speaker\t发言人数量\n",
    "duration\t演讲时长，以秒为单位\n",
    "event\t演讲所在的TED / TEDx活动\n",
    "film_date\t演讲拍摄时间 (Unix timestamp)\n",
    "published_date\t演讲发布时间 (Unix timestamp)\n",
    "comments\t评论数量\n",
    "tags\t与演讲相关的主题标签\n",
    "languages\t收听演讲时可选择的语言数量\n",
    "ratings\t一个列表，里面包含许多字典，每个字典是不同的演讲评级（如鼓舞人心，引人入胜，令人惊讶等）\n",
    "related_talks\t一个列表，里面包含许多字典，每个字典是下一个值得观看的演讲推荐\n",
    "url\t演讲的URL链接\n",
    "views\t观看数量"
   ]
  },
  {
   "cell_type": "code",
   "execution_count": 144,
   "id": "744013b5",
   "metadata": {},
   "outputs": [
    {
     "data": {
      "text/plain": [
       "pandas.core.series.Series"
      ]
     },
     "execution_count": 144,
     "metadata": {},
     "output_type": "execute_result"
    }
   ],
   "source": [
    "type(ted['film_date'])"
   ]
  },
  {
   "cell_type": "code",
   "execution_count": 145,
   "id": "758668d0",
   "metadata": {},
   "outputs": [
    {
     "data": {
      "text/html": [
       "<div>\n",
       "<style scoped>\n",
       "    .dataframe tbody tr th:only-of-type {\n",
       "        vertical-align: middle;\n",
       "    }\n",
       "\n",
       "    .dataframe tbody tr th {\n",
       "        vertical-align: top;\n",
       "    }\n",
       "\n",
       "    .dataframe thead th {\n",
       "        text-align: right;\n",
       "    }\n",
       "</style>\n",
       "<table border=\"1\" class=\"dataframe\">\n",
       "  <thead>\n",
       "    <tr style=\"text-align: right;\">\n",
       "      <th></th>\n",
       "      <th>name</th>\n",
       "      <th>title</th>\n",
       "      <th>description</th>\n",
       "      <th>main_speaker</th>\n",
       "      <th>speaker_occupation</th>\n",
       "      <th>num_speaker</th>\n",
       "      <th>duration</th>\n",
       "      <th>event</th>\n",
       "      <th>film_date</th>\n",
       "      <th>published_date</th>\n",
       "      <th>comments</th>\n",
       "      <th>tags</th>\n",
       "      <th>languages</th>\n",
       "      <th>ratings</th>\n",
       "      <th>related_talks</th>\n",
       "      <th>url</th>\n",
       "      <th>views</th>\n",
       "    </tr>\n",
       "  </thead>\n",
       "  <tbody>\n",
       "    <tr>\n",
       "      <th>0</th>\n",
       "      <td>Ken Robinson: Do schools kill creativity?</td>\n",
       "      <td>Do schools kill creativity?</td>\n",
       "      <td>Sir Ken Robinson makes an entertaining and pro...</td>\n",
       "      <td>Ken Robinson</td>\n",
       "      <td>Author/educator</td>\n",
       "      <td>1</td>\n",
       "      <td>1164</td>\n",
       "      <td>TED2006</td>\n",
       "      <td>25-02-2006</td>\n",
       "      <td>1151367060</td>\n",
       "      <td>4553</td>\n",
       "      <td>['children', 'creativity', 'culture', 'dance',...</td>\n",
       "      <td>60</td>\n",
       "      <td>[{'id': 7, 'name': 'Funny', 'count': 19645}, {...</td>\n",
       "      <td>[{'id': 865, 'hero': 'https://pe.tedcdn.com/im...</td>\n",
       "      <td>https://www.ted.com/talks/ken_robinson_says_sc...</td>\n",
       "      <td>47227110</td>\n",
       "    </tr>\n",
       "    <tr>\n",
       "      <th>1</th>\n",
       "      <td>Al Gore: Averting the climate crisis</td>\n",
       "      <td>Averting the climate crisis</td>\n",
       "      <td>With the same humor and humanity he exuded in ...</td>\n",
       "      <td>Al Gore</td>\n",
       "      <td>Climate advocate</td>\n",
       "      <td>1</td>\n",
       "      <td>977</td>\n",
       "      <td>TED2006</td>\n",
       "      <td>25-02-2006</td>\n",
       "      <td>1151367060</td>\n",
       "      <td>265</td>\n",
       "      <td>['alternative energy', 'cars', 'climate change...</td>\n",
       "      <td>43</td>\n",
       "      <td>[{'id': 7, 'name': 'Funny', 'count': 544}, {'i...</td>\n",
       "      <td>[{'id': 243, 'hero': 'https://pe.tedcdn.com/im...</td>\n",
       "      <td>https://www.ted.com/talks/al_gore_on_averting_...</td>\n",
       "      <td>3200520</td>\n",
       "    </tr>\n",
       "  </tbody>\n",
       "</table>\n",
       "</div>"
      ],
      "text/plain": [
       "                                        name                        title  \\\n",
       "0  Ken Robinson: Do schools kill creativity?  Do schools kill creativity?   \n",
       "1       Al Gore: Averting the climate crisis  Averting the climate crisis   \n",
       "\n",
       "                                         description  main_speaker  \\\n",
       "0  Sir Ken Robinson makes an entertaining and pro...  Ken Robinson   \n",
       "1  With the same humor and humanity he exuded in ...       Al Gore   \n",
       "\n",
       "  speaker_occupation  num_speaker  duration    event   film_date  \\\n",
       "0    Author/educator            1      1164  TED2006  25-02-2006   \n",
       "1   Climate advocate            1       977  TED2006  25-02-2006   \n",
       "\n",
       "   published_date  comments  \\\n",
       "0      1151367060      4553   \n",
       "1      1151367060       265   \n",
       "\n",
       "                                                tags  languages  \\\n",
       "0  ['children', 'creativity', 'culture', 'dance',...         60   \n",
       "1  ['alternative energy', 'cars', 'climate change...         43   \n",
       "\n",
       "                                             ratings  \\\n",
       "0  [{'id': 7, 'name': 'Funny', 'count': 19645}, {...   \n",
       "1  [{'id': 7, 'name': 'Funny', 'count': 544}, {'i...   \n",
       "\n",
       "                                       related_talks  \\\n",
       "0  [{'id': 865, 'hero': 'https://pe.tedcdn.com/im...   \n",
       "1  [{'id': 243, 'hero': 'https://pe.tedcdn.com/im...   \n",
       "\n",
       "                                                 url     views  \n",
       "0  https://www.ted.com/talks/ken_robinson_says_sc...  47227110  \n",
       "1  https://www.ted.com/talks/al_gore_on_averting_...   3200520  "
      ]
     },
     "execution_count": 145,
     "metadata": {},
     "output_type": "execute_result"
    }
   ],
   "source": [
    "ted['film_date'] = ted['film_date'].apply(lambda x: datetime.datetime.fromtimestamp(int(x)).strftime('%d-%m-%Y'))\n",
    "ted.head(2)"
   ]
  },
  {
   "cell_type": "code",
   "execution_count": 146,
   "id": "ece5975b",
   "metadata": {},
   "outputs": [],
   "source": [
    "ted['published_date'] = ted['published_date'].apply(lambda x: datetime.datetime.fromtimestamp(int(x)).strftime('%d-%m-%Y'))\n"
   ]
  },
  {
   "cell_type": "code",
   "execution_count": 147,
   "id": "2f0e55c9",
   "metadata": {},
   "outputs": [
    {
     "data": {
      "text/html": [
       "<div>\n",
       "<style scoped>\n",
       "    .dataframe tbody tr th:only-of-type {\n",
       "        vertical-align: middle;\n",
       "    }\n",
       "\n",
       "    .dataframe tbody tr th {\n",
       "        vertical-align: top;\n",
       "    }\n",
       "\n",
       "    .dataframe thead th {\n",
       "        text-align: right;\n",
       "    }\n",
       "</style>\n",
       "<table border=\"1\" class=\"dataframe\">\n",
       "  <thead>\n",
       "    <tr style=\"text-align: right;\">\n",
       "      <th></th>\n",
       "      <th>published_date</th>\n",
       "      <th>film_date</th>\n",
       "    </tr>\n",
       "  </thead>\n",
       "  <tbody>\n",
       "    <tr>\n",
       "      <th>0</th>\n",
       "      <td>27-06-2006</td>\n",
       "      <td>25-02-2006</td>\n",
       "    </tr>\n",
       "    <tr>\n",
       "      <th>1</th>\n",
       "      <td>27-06-2006</td>\n",
       "      <td>25-02-2006</td>\n",
       "    </tr>\n",
       "  </tbody>\n",
       "</table>\n",
       "</div>"
      ],
      "text/plain": [
       "  published_date   film_date\n",
       "0     27-06-2006  25-02-2006\n",
       "1     27-06-2006  25-02-2006"
      ]
     },
     "execution_count": 147,
     "metadata": {},
     "output_type": "execute_result"
    }
   ],
   "source": [
    "ted[['published_date','film_date']].head(2)"
   ]
  },
  {
   "cell_type": "code",
   "execution_count": 148,
   "id": "deb24e58",
   "metadata": {},
   "outputs": [
    {
     "data": {
      "text/plain": [
       "name                  False\n",
       "title                 False\n",
       "description           False\n",
       "main_speaker          False\n",
       "speaker_occupation     True\n",
       "num_speaker           False\n",
       "duration              False\n",
       "event                 False\n",
       "film_date             False\n",
       "published_date        False\n",
       "comments              False\n",
       "tags                  False\n",
       "languages             False\n",
       "ratings               False\n",
       "related_talks         False\n",
       "url                   False\n",
       "views                 False\n",
       "dtype: bool"
      ]
     },
     "execution_count": 148,
     "metadata": {},
     "output_type": "execute_result"
    }
   ],
   "source": [
    "ted.isnull().any()"
   ]
  },
  {
   "cell_type": "code",
   "execution_count": 149,
   "id": "81a23b46",
   "metadata": {},
   "outputs": [
    {
     "data": {
      "text/plain": [
       "False    2544\n",
       "True        6\n",
       "Name: speaker_occupation, dtype: int64"
      ]
     },
     "execution_count": 149,
     "metadata": {},
     "output_type": "execute_result"
    }
   ],
   "source": [
    "ted['speaker_occupation'].isnull().value_counts()"
   ]
  },
  {
   "cell_type": "code",
   "execution_count": 150,
   "id": "4dac6398",
   "metadata": {},
   "outputs": [
    {
     "data": {
      "text/html": [
       "<div>\n",
       "<style scoped>\n",
       "    .dataframe tbody tr th:only-of-type {\n",
       "        vertical-align: middle;\n",
       "    }\n",
       "\n",
       "    .dataframe tbody tr th {\n",
       "        vertical-align: top;\n",
       "    }\n",
       "\n",
       "    .dataframe thead th {\n",
       "        text-align: right;\n",
       "    }\n",
       "</style>\n",
       "<table border=\"1\" class=\"dataframe\">\n",
       "  <thead>\n",
       "    <tr style=\"text-align: right;\">\n",
       "      <th></th>\n",
       "      <th>num_speaker</th>\n",
       "      <th>duration</th>\n",
       "      <th>comments</th>\n",
       "      <th>languages</th>\n",
       "      <th>views</th>\n",
       "    </tr>\n",
       "  </thead>\n",
       "  <tbody>\n",
       "    <tr>\n",
       "      <th>count</th>\n",
       "      <td>2550.000000</td>\n",
       "      <td>2550.000000</td>\n",
       "      <td>2550.000000</td>\n",
       "      <td>2550.000000</td>\n",
       "      <td>2.550000e+03</td>\n",
       "    </tr>\n",
       "    <tr>\n",
       "      <th>mean</th>\n",
       "      <td>1.028235</td>\n",
       "      <td>826.510196</td>\n",
       "      <td>191.562353</td>\n",
       "      <td>27.326275</td>\n",
       "      <td>1.698297e+06</td>\n",
       "    </tr>\n",
       "    <tr>\n",
       "      <th>std</th>\n",
       "      <td>0.207705</td>\n",
       "      <td>374.009138</td>\n",
       "      <td>282.315223</td>\n",
       "      <td>9.563452</td>\n",
       "      <td>2.498479e+06</td>\n",
       "    </tr>\n",
       "    <tr>\n",
       "      <th>min</th>\n",
       "      <td>1.000000</td>\n",
       "      <td>135.000000</td>\n",
       "      <td>2.000000</td>\n",
       "      <td>0.000000</td>\n",
       "      <td>5.044300e+04</td>\n",
       "    </tr>\n",
       "    <tr>\n",
       "      <th>25%</th>\n",
       "      <td>1.000000</td>\n",
       "      <td>577.000000</td>\n",
       "      <td>63.000000</td>\n",
       "      <td>23.000000</td>\n",
       "      <td>7.557928e+05</td>\n",
       "    </tr>\n",
       "    <tr>\n",
       "      <th>50%</th>\n",
       "      <td>1.000000</td>\n",
       "      <td>848.000000</td>\n",
       "      <td>118.000000</td>\n",
       "      <td>28.000000</td>\n",
       "      <td>1.124524e+06</td>\n",
       "    </tr>\n",
       "    <tr>\n",
       "      <th>75%</th>\n",
       "      <td>1.000000</td>\n",
       "      <td>1046.750000</td>\n",
       "      <td>221.750000</td>\n",
       "      <td>33.000000</td>\n",
       "      <td>1.700760e+06</td>\n",
       "    </tr>\n",
       "    <tr>\n",
       "      <th>max</th>\n",
       "      <td>5.000000</td>\n",
       "      <td>5256.000000</td>\n",
       "      <td>6404.000000</td>\n",
       "      <td>72.000000</td>\n",
       "      <td>4.722711e+07</td>\n",
       "    </tr>\n",
       "  </tbody>\n",
       "</table>\n",
       "</div>"
      ],
      "text/plain": [
       "       num_speaker     duration     comments    languages         views\n",
       "count  2550.000000  2550.000000  2550.000000  2550.000000  2.550000e+03\n",
       "mean      1.028235   826.510196   191.562353    27.326275  1.698297e+06\n",
       "std       0.207705   374.009138   282.315223     9.563452  2.498479e+06\n",
       "min       1.000000   135.000000     2.000000     0.000000  5.044300e+04\n",
       "25%       1.000000   577.000000    63.000000    23.000000  7.557928e+05\n",
       "50%       1.000000   848.000000   118.000000    28.000000  1.124524e+06\n",
       "75%       1.000000  1046.750000   221.750000    33.000000  1.700760e+06\n",
       "max       5.000000  5256.000000  6404.000000    72.000000  4.722711e+07"
      ]
     },
     "execution_count": 150,
     "metadata": {},
     "output_type": "execute_result"
    }
   ],
   "source": [
    "ted.describe()"
   ]
  },
  {
   "cell_type": "code",
   "execution_count": 151,
   "id": "d699be55",
   "metadata": {},
   "outputs": [
    {
     "name": "stdout",
     "output_type": "stream",
     "text": [
      "时长小于18分钟的演讲数占所有演讲总数的79.1%\n"
     ]
    }
   ],
   "source": [
    "print(\"时长小于18分钟的演讲数占所有演讲总数的{}%\"\n",
    "      .format(\n",
    "          round(\n",
    "              sum(\n",
    "                  ted[\"duration\"] <= 18*60)*100/len(ted), 1\n",
    "          )\n",
    "      )\n",
    "     )"
   ]
  },
  {
   "cell_type": "code",
   "execution_count": 152,
   "id": "b0e2ce5a",
   "metadata": {},
   "outputs": [
    {
     "name": "stdout",
     "output_type": "stream",
     "text": [
      "单人演讲占所有演讲的比例为97.7%\n"
     ]
    }
   ],
   "source": [
    "print(\"单人演讲占所有演讲的比例为{}%\"\n",
    "      .format(\n",
    "          round(\n",
    "              sum(ted[\"num_speaker\"] == 1)*100/len(ted), 1\n",
    "          )\n",
    "      )\n",
    "     )\n"
   ]
  },
  {
   "cell_type": "code",
   "execution_count": 153,
   "id": "ac7a23fc",
   "metadata": {},
   "outputs": [
    {
     "data": {
      "text/plain": [
       "count    2.550000e+03\n",
       "mean     1.698297e+06\n",
       "std      2.498479e+06\n",
       "min      5.044300e+04\n",
       "25%      7.557928e+05\n",
       "50%      1.124524e+06\n",
       "75%      1.700760e+06\n",
       "max      4.722711e+07\n",
       "Name: views, dtype: float64"
      ]
     },
     "execution_count": 153,
     "metadata": {},
     "output_type": "execute_result"
    }
   ],
   "source": [
    "ted['views'].describe()"
   ]
  },
  {
   "cell_type": "code",
   "execution_count": 187,
   "id": "25a370d5",
   "metadata": {},
   "outputs": [
    {
     "data": {
      "text/plain": [
       "<AxesSubplot:xlabel='views'>"
      ]
     },
     "execution_count": 187,
     "metadata": {},
     "output_type": "execute_result"
    },
    {
     "data": {
      "image/png": "[encoded data removed]",
      "text/plain": [
       "<Figure size 1296x360 with 1 Axes>"
      ]
     },
     "metadata": {
      "needs_background": "light"
     },
     "output_type": "display_data"
    }
   ],
   "source": [
    "plt.figure(figsize=(18, 5))\n",
    "sns.boxplot(ted['views'])"
   ]
  },
  {
   "cell_type": "code",
   "execution_count": 186,
   "id": "0084d92f",
   "metadata": {},
   "outputs": [
    {
     "data": {
      "text/plain": [
       "<AxesSubplot:xlabel='views', ylabel='Density'>"
      ]
     },
     "execution_count": 186,
     "metadata": {},
     "output_type": "execute_result"
    },
    {
     "data": {
      "image/png": "[encoded data removed]",
      "text/plain": [
       "<Figure size 1296x360 with 1 Axes>"
      ]
     },
     "metadata": {
      "needs_background": "light"
     },
     "output_type": "display_data"
    }
   ],
   "source": [
    "plt.figure(figsize=(18, 5))\n",
    "sns.distplot(ted['views'])"
   ]
  },
  {
   "cell_type": "code",
   "execution_count": 156,
   "id": "4f121e9b",
   "metadata": {},
   "outputs": [
    {
     "name": "stdout",
     "output_type": "stream",
     "text": [
      "浏览量小于4 million的演讲视频数占总数的93.5%\n"
     ]
    }
   ],
   "source": [
    "print(\"浏览量小于4 million的演讲视频数占总数的\" + \n",
    "      str(round(sum(ted[\"views\"] <= 4000000)*100/len(ted), 1)) + \"%\")"
   ]
  },
  {
   "cell_type": "code",
   "execution_count": 185,
   "id": "c4e1f29d",
   "metadata": {},
   "outputs": [
    {
     "name": "stdout",
     "output_type": "stream",
     "text": [
      "评论量小于500条：93.3%\n"
     ]
    },
    {
     "data": {
      "text/plain": [
       "<AxesSubplot:xlabel='comments'>"
      ]
     },
     "execution_count": 185,
     "metadata": {},
     "output_type": "execute_result"
    },
    {
     "data": {
      "image/png": "[encoded data removed]",
      "text/plain": [
       "<Figure size 1296x360 with 1 Axes>"
      ]
     },
     "metadata": {
      "needs_background": "light"
     },
     "output_type": "display_data"
    }
   ],
   "source": [
    "print(\"评论量小于500条：\" + str(round(sum(ted[\"comments\"] <= 500)*100/len(ted), 1)) + \"%\")\n",
    "plt.figure(figsize=(18, 5))\n",
    "sns.boxplot(ted['comments'])"
   ]
  },
  {
   "cell_type": "code",
   "execution_count": 184,
   "id": "3522fa85",
   "metadata": {},
   "outputs": [
    {
     "data": {
      "text/plain": [
       "<AxesSubplot:xlabel='comments', ylabel='Density'>"
      ]
     },
     "execution_count": 184,
     "metadata": {},
     "output_type": "execute_result"
    },
    {
     "data": {
      "image/png": "[encoded data removed]",
      "text/plain": [
       "<Figure size 1296x360 with 1 Axes>"
      ]
     },
     "metadata": {
      "needs_background": "light"
     },
     "output_type": "display_data"
    }
   ],
   "source": [
    "# 评论量小于500的分布图\n",
    "plt.figure(figsize=(18, 5))\n",
    "sns.distplot(ted[ted['comments'] < 500]['comments'])"
   ]
  },
  {
   "cell_type": "code",
   "execution_count": 183,
   "id": "53d73320",
   "metadata": {},
   "outputs": [
    {
     "data": {
      "text/plain": [
       "<seaborn.axisgrid.JointGrid at 0x7fb3216909d0>"
      ]
     },
     "execution_count": 183,
     "metadata": {},
     "output_type": "execute_result"
    },
    {
     "data": {
      "text/plain": [
       "<Figure size 1296x360 with 0 Axes>"
      ]
     },
     "metadata": {},
     "output_type": "display_data"
    },
    {
     "data": {
      "image/png": "[encoded data removed]",
      "text/plain": [
       "<Figure size 432x432 with 3 Axes>"
      ]
     },
     "metadata": {
      "needs_background": "light"
     },
     "output_type": "display_data"
    }
   ],
   "source": [
    "#联合分布图\n",
    "plt.figure(figsize=(18, 5))\n",
    "sns.jointplot(x = 'views', y = 'comments', data = ted)"
   ]
  },
  {
   "cell_type": "code",
   "execution_count": 160,
   "id": "9562e950",
   "metadata": {},
   "outputs": [
    {
     "data": {
      "text/html": [
       "<div>\n",
       "<style scoped>\n",
       "    .dataframe tbody tr th:only-of-type {\n",
       "        vertical-align: middle;\n",
       "    }\n",
       "\n",
       "    .dataframe tbody tr th {\n",
       "        vertical-align: top;\n",
       "    }\n",
       "\n",
       "    .dataframe thead th {\n",
       "        text-align: right;\n",
       "    }\n",
       "</style>\n",
       "<table border=\"1\" class=\"dataframe\">\n",
       "  <thead>\n",
       "    <tr style=\"text-align: right;\">\n",
       "      <th></th>\n",
       "      <th>views</th>\n",
       "      <th>comments</th>\n",
       "    </tr>\n",
       "  </thead>\n",
       "  <tbody>\n",
       "    <tr>\n",
       "      <th>views</th>\n",
       "      <td>1.000000</td>\n",
       "      <td>0.530939</td>\n",
       "    </tr>\n",
       "    <tr>\n",
       "      <th>comments</th>\n",
       "      <td>0.530939</td>\n",
       "      <td>1.000000</td>\n",
       "    </tr>\n",
       "  </tbody>\n",
       "</table>\n",
       "</div>"
      ],
      "text/plain": [
       "             views  comments\n",
       "views     1.000000  0.530939\n",
       "comments  0.530939  1.000000"
      ]
     },
     "execution_count": 160,
     "metadata": {},
     "output_type": "execute_result"
    }
   ],
   "source": [
    "#相关矩阵\n",
    "ted[['views', 'comments']].corr()"
   ]
  },
  {
   "cell_type": "code",
   "execution_count": 161,
   "id": "5f12818e",
   "metadata": {},
   "outputs": [
    {
     "data": {
      "text/html": [
       "<div>\n",
       "<style scoped>\n",
       "    .dataframe tbody tr th:only-of-type {\n",
       "        vertical-align: middle;\n",
       "    }\n",
       "\n",
       "    .dataframe tbody tr th {\n",
       "        vertical-align: top;\n",
       "    }\n",
       "\n",
       "    .dataframe thead th {\n",
       "        text-align: right;\n",
       "    }\n",
       "</style>\n",
       "<table border=\"1\" class=\"dataframe\">\n",
       "  <thead>\n",
       "    <tr style=\"text-align: right;\">\n",
       "      <th></th>\n",
       "      <th>name</th>\n",
       "      <th>title</th>\n",
       "      <th>description</th>\n",
       "      <th>main_speaker</th>\n",
       "      <th>speaker_occupation</th>\n",
       "      <th>num_speaker</th>\n",
       "      <th>duration</th>\n",
       "      <th>event</th>\n",
       "      <th>film_date</th>\n",
       "      <th>published_date</th>\n",
       "      <th>comments</th>\n",
       "      <th>tags</th>\n",
       "      <th>languages</th>\n",
       "      <th>ratings</th>\n",
       "      <th>related_talks</th>\n",
       "      <th>url</th>\n",
       "      <th>views</th>\n",
       "      <th>dis_ind</th>\n",
       "    </tr>\n",
       "  </thead>\n",
       "  <tbody>\n",
       "    <tr>\n",
       "      <th>0</th>\n",
       "      <td>Ken Robinson: Do schools kill creativity?</td>\n",
       "      <td>Do schools kill creativity?</td>\n",
       "      <td>Sir Ken Robinson makes an entertaining and pro...</td>\n",
       "      <td>Ken Robinson</td>\n",
       "      <td>Author/educator</td>\n",
       "      <td>1</td>\n",
       "      <td>1164</td>\n",
       "      <td>TED2006</td>\n",
       "      <td>25-02-2006</td>\n",
       "      <td>27-06-2006</td>\n",
       "      <td>4553</td>\n",
       "      <td>['children', 'creativity', 'culture', 'dance',...</td>\n",
       "      <td>60</td>\n",
       "      <td>[{'id': 7, 'name': 'Funny', 'count': 19645}, {...</td>\n",
       "      <td>[{'id': 865, 'hero': 'https://pe.tedcdn.com/im...</td>\n",
       "      <td>https://www.ted.com/talks/ken_robinson_says_sc...</td>\n",
       "      <td>47227110</td>\n",
       "      <td>1.0</td>\n",
       "    </tr>\n",
       "    <tr>\n",
       "      <th>1</th>\n",
       "      <td>Al Gore: Averting the climate crisis</td>\n",
       "      <td>Averting the climate crisis</td>\n",
       "      <td>With the same humor and humanity he exuded in ...</td>\n",
       "      <td>Al Gore</td>\n",
       "      <td>Climate advocate</td>\n",
       "      <td>1</td>\n",
       "      <td>977</td>\n",
       "      <td>TED2006</td>\n",
       "      <td>25-02-2006</td>\n",
       "      <td>27-06-2006</td>\n",
       "      <td>265</td>\n",
       "      <td>['alternative energy', 'cars', 'climate change...</td>\n",
       "      <td>43</td>\n",
       "      <td>[{'id': 7, 'name': 'Funny', 'count': 544}, {'i...</td>\n",
       "      <td>[{'id': 243, 'hero': 'https://pe.tedcdn.com/im...</td>\n",
       "      <td>https://www.ted.com/talks/al_gore_on_averting_...</td>\n",
       "      <td>3200520</td>\n",
       "      <td>0.8</td>\n",
       "    </tr>\n",
       "  </tbody>\n",
       "</table>\n",
       "</div>"
      ],
      "text/plain": [
       "                                        name                        title  \\\n",
       "0  Ken Robinson: Do schools kill creativity?  Do schools kill creativity?   \n",
       "1       Al Gore: Averting the climate crisis  Averting the climate crisis   \n",
       "\n",
       "                                         description  main_speaker  \\\n",
       "0  Sir Ken Robinson makes an entertaining and pro...  Ken Robinson   \n",
       "1  With the same humor and humanity he exuded in ...       Al Gore   \n",
       "\n",
       "  speaker_occupation  num_speaker  duration    event   film_date  \\\n",
       "0    Author/educator            1      1164  TED2006  25-02-2006   \n",
       "1   Climate advocate            1       977  TED2006  25-02-2006   \n",
       "\n",
       "  published_date  comments                                               tags  \\\n",
       "0     27-06-2006      4553  ['children', 'creativity', 'culture', 'dance',...   \n",
       "1     27-06-2006       265  ['alternative energy', 'cars', 'climate change...   \n",
       "\n",
       "   languages                                            ratings  \\\n",
       "0         60  [{'id': 7, 'name': 'Funny', 'count': 19645}, {...   \n",
       "1         43  [{'id': 7, 'name': 'Funny', 'count': 544}, {'i...   \n",
       "\n",
       "                                       related_talks  \\\n",
       "0  [{'id': 865, 'hero': 'https://pe.tedcdn.com/im...   \n",
       "1  [{'id': 243, 'hero': 'https://pe.tedcdn.com/im...   \n",
       "\n",
       "                                                 url     views  dis_ind  \n",
       "0  https://www.ted.com/talks/ken_robinson_says_sc...  47227110      1.0  \n",
       "1  https://www.ted.com/talks/al_gore_on_averting_...   3200520      0.8  "
      ]
     },
     "execution_count": 161,
     "metadata": {},
     "output_type": "execute_result"
    }
   ],
   "source": [
    "ted['dis_ind'] = round(ted['comments']/ted['views'] * 10000, 1)\n",
    "ted.head(2)"
   ]
  },
  {
   "cell_type": "code",
   "execution_count": 162,
   "id": "965d46c0",
   "metadata": {},
   "outputs": [],
   "source": [
    "# 月份和星期的顺序\n",
    "month_order = ['Jan', 'Feb', 'Mar', 'Apr', 'May', 'Jun', 'Jul', 'Aug', 'Sep', 'Oct', 'Nov', 'Dec']\n",
    "day_order = ['Mon', 'Tue', 'Wed', 'Thu', 'Fri', 'Sat', 'Sun']\n",
    "\n",
    "# 加一列月份\n",
    "ted['month'] = ted['film_date'].apply(lambda x: month_order[int(x.split('-')[1]) - 1])\n",
    "month_df = pd.DataFrame(ted['month'].value_counts()).reset_index()\n",
    "month_df.columns = ['month', 'talks']"
   ]
  },
  {
   "cell_type": "code",
   "execution_count": 163,
   "id": "0bf15d98",
   "metadata": {},
   "outputs": [],
   "source": [
    "# 定义获取星期的函数\n",
    "def getday(x):\n",
    "    day, month, year = (int(i) for i in x.split('-'))    \n",
    "    answer = datetime.date(year, month, day).weekday()\n",
    "    return day_order[answer]"
   ]
  },
  {
   "cell_type": "code",
   "execution_count": 164,
   "id": "8273bf82",
   "metadata": {},
   "outputs": [
    {
     "data": {
      "text/plain": [
       "0    Sat\n",
       "1    Sat\n",
       "Name: day, dtype: object"
      ]
     },
     "execution_count": 164,
     "metadata": {},
     "output_type": "execute_result"
    }
   ],
   "source": [
    "# 加一列星期\n",
    "ted['day'] = ted['film_date'].apply(getday)\n",
    "ted['day'][0:2]"
   ]
  },
  {
   "cell_type": "code",
   "execution_count": 165,
   "id": "13a7aac2",
   "metadata": {},
   "outputs": [
    {
     "data": {
      "text/html": [
       "<div>\n",
       "<style scoped>\n",
       "    .dataframe tbody tr th:only-of-type {\n",
       "        vertical-align: middle;\n",
       "    }\n",
       "\n",
       "    .dataframe tbody tr th {\n",
       "        vertical-align: top;\n",
       "    }\n",
       "\n",
       "    .dataframe thead th {\n",
       "        text-align: right;\n",
       "    }\n",
       "</style>\n",
       "<table border=\"1\" class=\"dataframe\">\n",
       "  <thead>\n",
       "    <tr style=\"text-align: right;\">\n",
       "      <th></th>\n",
       "      <th>day</th>\n",
       "      <th>talks</th>\n",
       "    </tr>\n",
       "  </thead>\n",
       "  <tbody>\n",
       "    <tr>\n",
       "      <th>0</th>\n",
       "      <td>Thu</td>\n",
       "      <td>552</td>\n",
       "    </tr>\n",
       "    <tr>\n",
       "      <th>1</th>\n",
       "      <td>Wed</td>\n",
       "      <td>533</td>\n",
       "    </tr>\n",
       "    <tr>\n",
       "      <th>2</th>\n",
       "      <td>Fri</td>\n",
       "      <td>384</td>\n",
       "    </tr>\n",
       "    <tr>\n",
       "      <th>3</th>\n",
       "      <td>Sat</td>\n",
       "      <td>338</td>\n",
       "    </tr>\n",
       "    <tr>\n",
       "      <th>4</th>\n",
       "      <td>Tue</td>\n",
       "      <td>327</td>\n",
       "    </tr>\n",
       "    <tr>\n",
       "      <th>5</th>\n",
       "      <td>Mon</td>\n",
       "      <td>306</td>\n",
       "    </tr>\n",
       "    <tr>\n",
       "      <th>6</th>\n",
       "      <td>Sun</td>\n",
       "      <td>110</td>\n",
       "    </tr>\n",
       "  </tbody>\n",
       "</table>\n",
       "</div>"
      ],
      "text/plain": [
       "   day  talks\n",
       "0  Thu    552\n",
       "1  Wed    533\n",
       "2  Fri    384\n",
       "3  Sat    338\n",
       "4  Tue    327\n",
       "5  Mon    306\n",
       "6  Sun    110"
      ]
     },
     "execution_count": 165,
     "metadata": {},
     "output_type": "execute_result"
    }
   ],
   "source": [
    "day_df = pd.DataFrame(ted['day'].value_counts()).reset_index()\n",
    "day_df.columns = ['day', 'talks']\n",
    "day_df.head(10)"
   ]
  },
  {
   "cell_type": "code",
   "execution_count": 166,
   "id": "0cbccc04",
   "metadata": {},
   "outputs": [
    {
     "data": {
      "text/html": [
       "<div>\n",
       "<style scoped>\n",
       "    .dataframe tbody tr th:only-of-type {\n",
       "        vertical-align: middle;\n",
       "    }\n",
       "\n",
       "    .dataframe tbody tr th {\n",
       "        vertical-align: top;\n",
       "    }\n",
       "\n",
       "    .dataframe thead th {\n",
       "        text-align: right;\n",
       "    }\n",
       "</style>\n",
       "<table border=\"1\" class=\"dataframe\">\n",
       "  <thead>\n",
       "    <tr style=\"text-align: right;\">\n",
       "      <th></th>\n",
       "      <th>day</th>\n",
       "      <th>talks</th>\n",
       "    </tr>\n",
       "  </thead>\n",
       "  <tbody>\n",
       "    <tr>\n",
       "      <th>0</th>\n",
       "      <td>Fri</td>\n",
       "      <td>384</td>\n",
       "    </tr>\n",
       "    <tr>\n",
       "      <th>1</th>\n",
       "      <td>Mon</td>\n",
       "      <td>306</td>\n",
       "    </tr>\n",
       "    <tr>\n",
       "      <th>2</th>\n",
       "      <td>Sat</td>\n",
       "      <td>338</td>\n",
       "    </tr>\n",
       "    <tr>\n",
       "      <th>3</th>\n",
       "      <td>Sun</td>\n",
       "      <td>110</td>\n",
       "    </tr>\n",
       "    <tr>\n",
       "      <th>4</th>\n",
       "      <td>Thu</td>\n",
       "      <td>552</td>\n",
       "    </tr>\n",
       "    <tr>\n",
       "      <th>5</th>\n",
       "      <td>Tue</td>\n",
       "      <td>327</td>\n",
       "    </tr>\n",
       "    <tr>\n",
       "      <th>6</th>\n",
       "      <td>Wed</td>\n",
       "      <td>533</td>\n",
       "    </tr>\n",
       "  </tbody>\n",
       "</table>\n",
       "</div>"
      ],
      "text/plain": [
       "   day  talks\n",
       "0  Fri    384\n",
       "1  Mon    306\n",
       "2  Sat    338\n",
       "3  Sun    110\n",
       "4  Thu    552\n",
       "5  Tue    327\n",
       "6  Wed    533"
      ]
     },
     "execution_count": 166,
     "metadata": {},
     "output_type": "execute_result"
    }
   ],
   "source": [
    "day_df.groupby('day').sum().reset_index()"
   ]
  },
  {
   "cell_type": "code",
   "execution_count": 182,
   "id": "ea4ec441",
   "metadata": {},
   "outputs": [
    {
     "data": {
      "image/png": "[encoded data removed]",
      "text/plain": [
       "<Figure size 1296x360 with 1 Axes>"
      ]
     },
     "metadata": {
      "needs_background": "light"
     },
     "output_type": "display_data"
    }
   ],
   "source": [
    "# 条形图\n",
    "plt.figure(figsize=(18, 5))\n",
    "ax = sns.barplot(x = 'day', y = 'talks', palette=\"vlag\", data = day_df, order = day_order)\n",
    "ax.set_title(\"TEDx演讲的时间分布\")\n",
    "ax.set_ylabel(\"演讲数\")\n",
    "ax.set_xlabel(\"周\")\n",
    "plt.show()"
   ]
  },
  {
   "cell_type": "code",
   "execution_count": 181,
   "id": "f89fdf00",
   "metadata": {},
   "outputs": [
    {
     "data": {
      "text/plain": [
       "<AxesSubplot:xlabel='comments', ylabel='Density'>"
      ]
     },
     "execution_count": 181,
     "metadata": {},
     "output_type": "execute_result"
    },
    {
     "data": {
      "image/png": "[encoded data removed]",
      "text/plain": [
       "<Figure size 1296x360 with 1 Axes>"
      ]
     },
     "metadata": {
      "needs_background": "light"
     },
     "output_type": "display_data"
    }
   ],
   "source": [
    "# 评论量小于500的分布图\n",
    "plt.figure(figsize=(18, 5))\n",
    "sns.distplot(ted[ted['comments'] < 500]['comments'])"
   ]
  },
  {
   "cell_type": "code",
   "execution_count": 180,
   "id": "c8bda94d",
   "metadata": {},
   "outputs": [
    {
     "data": {
      "text/plain": [
       "<AxesSubplot:xlabel='comments', ylabel='Density'>"
      ]
     },
     "execution_count": 180,
     "metadata": {},
     "output_type": "execute_result"
    },
    {
     "data": {
      "image/png": "[encoded data removed]",
      "text/plain": [
       "<Figure size 1296x360 with 1 Axes>"
      ]
     },
     "metadata": {
      "needs_background": "light"
     },
     "output_type": "display_data"
    }
   ],
   "source": [
    "#  评论量小于500的分布图\n",
    "plt.figure(figsize=(18, 5))\n",
    "sns.distplot(ted[ted['comments'] < 500]['comments'])"
   ]
  },
  {
   "cell_type": "code",
   "execution_count": 169,
   "id": "f8adbd28",
   "metadata": {},
   "outputs": [
    {
     "data": {
      "text/html": [
       "<div>\n",
       "<style scoped>\n",
       "    .dataframe tbody tr th:only-of-type {\n",
       "        vertical-align: middle;\n",
       "    }\n",
       "\n",
       "    .dataframe tbody tr th {\n",
       "        vertical-align: top;\n",
       "    }\n",
       "\n",
       "    .dataframe thead th {\n",
       "        text-align: right;\n",
       "    }\n",
       "</style>\n",
       "<table border=\"1\" class=\"dataframe\">\n",
       "  <thead>\n",
       "    <tr style=\"text-align: right;\">\n",
       "      <th></th>\n",
       "      <th>year</th>\n",
       "      <th>talks</th>\n",
       "    </tr>\n",
       "  </thead>\n",
       "  <tbody>\n",
       "    <tr>\n",
       "      <th>0</th>\n",
       "      <td>2013</td>\n",
       "      <td>270</td>\n",
       "    </tr>\n",
       "    <tr>\n",
       "      <th>1</th>\n",
       "      <td>2011</td>\n",
       "      <td>270</td>\n",
       "    </tr>\n",
       "    <tr>\n",
       "      <th>2</th>\n",
       "      <td>2010</td>\n",
       "      <td>267</td>\n",
       "    </tr>\n",
       "    <tr>\n",
       "      <th>3</th>\n",
       "      <td>2012</td>\n",
       "      <td>267</td>\n",
       "    </tr>\n",
       "    <tr>\n",
       "      <th>4</th>\n",
       "      <td>2016</td>\n",
       "      <td>246</td>\n",
       "    </tr>\n",
       "    <tr>\n",
       "      <th>5</th>\n",
       "      <td>2015</td>\n",
       "      <td>239</td>\n",
       "    </tr>\n",
       "    <tr>\n",
       "      <th>6</th>\n",
       "      <td>2014</td>\n",
       "      <td>237</td>\n",
       "    </tr>\n",
       "    <tr>\n",
       "      <th>7</th>\n",
       "      <td>2009</td>\n",
       "      <td>232</td>\n",
       "    </tr>\n",
       "    <tr>\n",
       "      <th>8</th>\n",
       "      <td>2007</td>\n",
       "      <td>114</td>\n",
       "    </tr>\n",
       "    <tr>\n",
       "      <th>9</th>\n",
       "      <td>2017</td>\n",
       "      <td>98</td>\n",
       "    </tr>\n",
       "  </tbody>\n",
       "</table>\n",
       "</div>"
      ],
      "text/plain": [
       "   year  talks\n",
       "0  2013    270\n",
       "1  2011    270\n",
       "2  2010    267\n",
       "3  2012    267\n",
       "4  2016    246\n",
       "5  2015    239\n",
       "6  2014    237\n",
       "7  2009    232\n",
       "8  2007    114\n",
       "9  2017     98"
      ]
     },
     "execution_count": 169,
     "metadata": {},
     "output_type": "execute_result"
    }
   ],
   "source": [
    "# 添加年份列\n",
    "ted['year'] = ted['film_date'].apply(lambda x: x.split('-')[2])\n",
    "year_df = pd.DataFrame(ted['year'].value_counts().reset_index())\n",
    "year_df.columns = ['year', 'talks']\n",
    "year_df.head(10)"
   ]
  },
  {
   "cell_type": "code",
   "execution_count": 179,
   "id": "bd83fb93",
   "metadata": {},
   "outputs": [
    {
     "data": {
      "image/png": "[encoded data removed]",
      "text/plain": [
       "<Figure size 1296x360 with 1 Axes>"
      ]
     },
     "metadata": {
      "needs_background": "light"
     },
     "output_type": "display_data"
    }
   ],
   "source": [
    "# 折线图\n",
    "plt.figure(figsize=(18, 5))\n",
    "ax = sns.pointplot(x = 'year', y = 'talks', data = year_df)\n",
    "ax.set_title(\"TEDx演讲的时间分布\")\n",
    "ax.set_ylabel(\"演讲数\")\n",
    "ax.set_xlabel(\"年份\")\n",
    "plt.show()"
   ]
  },
  {
   "cell_type": "code",
   "execution_count": 171,
   "id": "01e9c2b7",
   "metadata": {},
   "outputs": [
    {
     "data": {
      "text/html": [
       "<div>\n",
       "<style scoped>\n",
       "    .dataframe tbody tr th:only-of-type {\n",
       "        vertical-align: middle;\n",
       "    }\n",
       "\n",
       "    .dataframe tbody tr th {\n",
       "        vertical-align: top;\n",
       "    }\n",
       "\n",
       "    .dataframe thead th {\n",
       "        text-align: right;\n",
       "    }\n",
       "</style>\n",
       "<table border=\"1\" class=\"dataframe\">\n",
       "  <thead>\n",
       "    <tr style=\"text-align: right;\">\n",
       "      <th></th>\n",
       "      <th>title</th>\n",
       "      <th>main_speaker</th>\n",
       "      <th>views</th>\n",
       "      <th>film_date</th>\n",
       "      <th>published_date</th>\n",
       "    </tr>\n",
       "  </thead>\n",
       "  <tbody>\n",
       "    <tr>\n",
       "      <th>0</th>\n",
       "      <td>Do schools kill creativity?</td>\n",
       "      <td>Ken Robinson</td>\n",
       "      <td>47227110</td>\n",
       "      <td>25-02-2006</td>\n",
       "      <td>27-06-2006</td>\n",
       "    </tr>\n",
       "    <tr>\n",
       "      <th>1346</th>\n",
       "      <td>Your body language may shape who you are</td>\n",
       "      <td>Amy Cuddy</td>\n",
       "      <td>43155405</td>\n",
       "      <td>26-06-2012</td>\n",
       "      <td>01-10-2012</td>\n",
       "    </tr>\n",
       "  </tbody>\n",
       "</table>\n",
       "</div>"
      ],
      "text/plain": [
       "                                         title  main_speaker     views  \\\n",
       "0                  Do schools kill creativity?  Ken Robinson  47227110   \n",
       "1346  Your body language may shape who you are     Amy Cuddy  43155405   \n",
       "\n",
       "       film_date published_date  \n",
       "0     25-02-2006     27-06-2006  \n",
       "1346  26-06-2012     01-10-2012  "
      ]
     },
     "execution_count": 171,
     "metadata": {},
     "output_type": "execute_result"
    }
   ],
   "source": [
    "pop_talks = ted[['title', 'main_speaker', 'views', 'film_date', \n",
    "'published_date']].sort_values('views', ascending = False)[:10]\n",
    "pop_talks.head(2)"
   ]
  },
  {
   "cell_type": "code",
   "execution_count": 172,
   "id": "56fe8734",
   "metadata": {},
   "outputs": [
    {
     "data": {
      "image/png": "[encoded data removed]",
      "text/plain": [
       "<Figure size 720x432 with 1 Axes>"
      ]
     },
     "metadata": {
      "needs_background": "light"
     },
     "output_type": "display_data"
    }
   ],
   "source": [
    "#条形图，浏览量最高的10个TED视频\n",
    "pop_talks['abbr'] = pop_talks['main_speaker'].apply(lambda x: x[:7])\n",
    "plt.figure(figsize=(10,6))\n",
    "ax = sns.barplot(x = 'abbr', y = 'views', palette=\"vlag\", data = pop_talks)\n",
    "ax.set_title(\"浏览量最高的10个TED视频\")\n",
    "ax.set_xlabel(\"演讲者姓名简写\")\n",
    "ax.set_ylabel(\"浏览量\")\n",
    "plt.rcParams['font.sans-serif'] = [u'DejaVu']\n",
    "plt.show()"
   ]
  },
  {
   "cell_type": "code",
   "execution_count": 177,
   "id": "7ed8fd2e",
   "metadata": {},
   "outputs": [
    {
     "data": {
      "text/html": [
       "<div>\n",
       "<style scoped>\n",
       "    .dataframe tbody tr th:only-of-type {\n",
       "        vertical-align: middle;\n",
       "    }\n",
       "\n",
       "    .dataframe tbody tr th {\n",
       "        vertical-align: top;\n",
       "    }\n",
       "\n",
       "    .dataframe thead th {\n",
       "        text-align: right;\n",
       "    }\n",
       "</style>\n",
       "<table border=\"1\" class=\"dataframe\">\n",
       "  <thead>\n",
       "    <tr style=\"text-align: right;\">\n",
       "      <th></th>\n",
       "      <th>title</th>\n",
       "      <th>main_speaker</th>\n",
       "      <th>views</th>\n",
       "      <th>comments</th>\n",
       "      <th>film_date</th>\n",
       "      <th>published_date</th>\n",
       "    </tr>\n",
       "  </thead>\n",
       "  <tbody>\n",
       "    <tr>\n",
       "      <th>96</th>\n",
       "      <td>Militant atheism</td>\n",
       "      <td>Richard Dawkins</td>\n",
       "      <td>4374792</td>\n",
       "      <td>6404</td>\n",
       "      <td>02-02-2002</td>\n",
       "      <td>16-04-2007</td>\n",
       "    </tr>\n",
       "    <tr>\n",
       "      <th>0</th>\n",
       "      <td>Do schools kill creativity?</td>\n",
       "      <td>Ken Robinson</td>\n",
       "      <td>47227110</td>\n",
       "      <td>4553</td>\n",
       "      <td>25-02-2006</td>\n",
       "      <td>27-06-2006</td>\n",
       "    </tr>\n",
       "    <tr>\n",
       "      <th>644</th>\n",
       "      <td>Science can answer moral questions</td>\n",
       "      <td>Sam Harris</td>\n",
       "      <td>3433437</td>\n",
       "      <td>3356</td>\n",
       "      <td>11-02-2010</td>\n",
       "      <td>22-03-2010</td>\n",
       "    </tr>\n",
       "    <tr>\n",
       "      <th>201</th>\n",
       "      <td>My stroke of insight</td>\n",
       "      <td>Jill Bolte Taylor</td>\n",
       "      <td>21190883</td>\n",
       "      <td>2877</td>\n",
       "      <td>27-02-2008</td>\n",
       "      <td>12-03-2008</td>\n",
       "    </tr>\n",
       "    <tr>\n",
       "      <th>1787</th>\n",
       "      <td>How do you explain consciousness?</td>\n",
       "      <td>David Chalmers</td>\n",
       "      <td>2162764</td>\n",
       "      <td>2673</td>\n",
       "      <td>18-03-2014</td>\n",
       "      <td>14-07-2014</td>\n",
       "    </tr>\n",
       "    <tr>\n",
       "      <th>954</th>\n",
       "      <td>Taking imagination seriously</td>\n",
       "      <td>Janet Echelman</td>\n",
       "      <td>1832930</td>\n",
       "      <td>2492</td>\n",
       "      <td>03-03-2011</td>\n",
       "      <td>08-06-2011</td>\n",
       "    </tr>\n",
       "    <tr>\n",
       "      <th>840</th>\n",
       "      <td>On reading the Koran</td>\n",
       "      <td>Lesley Hazleton</td>\n",
       "      <td>1847256</td>\n",
       "      <td>2374</td>\n",
       "      <td>10-10-2010</td>\n",
       "      <td>04-01-2011</td>\n",
       "    </tr>\n",
       "    <tr>\n",
       "      <th>1346</th>\n",
       "      <td>Your body language may shape who you are</td>\n",
       "      <td>Amy Cuddy</td>\n",
       "      <td>43155405</td>\n",
       "      <td>2290</td>\n",
       "      <td>26-06-2012</td>\n",
       "      <td>01-10-2012</td>\n",
       "    </tr>\n",
       "    <tr>\n",
       "      <th>661</th>\n",
       "      <td>The danger of science denial</td>\n",
       "      <td>Michael Specter</td>\n",
       "      <td>1838628</td>\n",
       "      <td>2272</td>\n",
       "      <td>11-02-2010</td>\n",
       "      <td>12-04-2010</td>\n",
       "    </tr>\n",
       "    <tr>\n",
       "      <th>677</th>\n",
       "      <td>How great leaders inspire action</td>\n",
       "      <td>Simon Sinek</td>\n",
       "      <td>34309432</td>\n",
       "      <td>1930</td>\n",
       "      <td>17-09-2009</td>\n",
       "      <td>04-05-2010</td>\n",
       "    </tr>\n",
       "  </tbody>\n",
       "</table>\n",
       "</div>"
      ],
      "text/plain": [
       "                                         title       main_speaker     views  \\\n",
       "96                            Militant atheism    Richard Dawkins   4374792   \n",
       "0                  Do schools kill creativity?       Ken Robinson  47227110   \n",
       "644         Science can answer moral questions         Sam Harris   3433437   \n",
       "201                       My stroke of insight  Jill Bolte Taylor  21190883   \n",
       "1787         How do you explain consciousness?     David Chalmers   2162764   \n",
       "954               Taking imagination seriously     Janet Echelman   1832930   \n",
       "840                       On reading the Koran    Lesley Hazleton   1847256   \n",
       "1346  Your body language may shape who you are          Amy Cuddy  43155405   \n",
       "661               The danger of science denial    Michael Specter   1838628   \n",
       "677           How great leaders inspire action        Simon Sinek  34309432   \n",
       "\n",
       "      comments   film_date published_date  \n",
       "96        6404  02-02-2002     16-04-2007  \n",
       "0         4553  25-02-2006     27-06-2006  \n",
       "644       3356  11-02-2010     22-03-2010  \n",
       "201       2877  27-02-2008     12-03-2008  \n",
       "1787      2673  18-03-2014     14-07-2014  \n",
       "954       2492  03-03-2011     08-06-2011  \n",
       "840       2374  10-10-2010     04-01-2011  \n",
       "1346      2290  26-06-2012     01-10-2012  \n",
       "661       2272  11-02-2010     12-04-2010  \n",
       "677       1930  17-09-2009     04-05-2010  "
      ]
     },
     "execution_count": 177,
     "metadata": {},
     "output_type": "execute_result"
    }
   ],
   "source": [
    "discuss_talks = ted[['title', 'main_speaker','views','comments', 'film_date', 'published_date']].sort_values('comments', ascending = False)[:10]\n",
    "discuss_talks.head(11)"
   ]
  },
  {
   "cell_type": "code",
   "execution_count": null,
   "id": "2737ab6c",
   "metadata": {},
   "outputs": [],
   "source": []
  },
  {
   "cell_type": "code",
   "execution_count": 176,
   "id": "fafa9fc6",
   "metadata": {},
   "outputs": [
    {
     "data": {
      "image/png": "[encoded data removed]",
      "text/plain": [
       "<Figure size 720x432 with 1 Axes>"
      ]
     },
     "metadata": {
      "needs_background": "light"
     },
     "output_type": "display_data"
    }
   ],
   "source": [
    "#条形图，评论数最高的10个TED视频\n",
    "discuss_talks['abbr'] = discuss_talks['main_speaker'].apply(lambda x: x[:7])\n",
    "plt.figure(figsize=(10,6))\n",
    "ax = sns.barplot(x = 'abbr', y = 'comments', palette=\"vlag\",data = discuss_talks)\n",
    "ax.set_title(\"评论数最高的TOP 10 TED演讲视频\")\n",
    "ax.set_ylabel(\"评论数\")\n",
    "ax.set_xlabel(\"演讲者名字简称\")\n",
    "plt.show()"
   ]
  },
  {
   "cell_type": "code",
   "execution_count": 188,
   "id": "a5011906",
   "metadata": {},
   "outputs": [
    {
     "data": {
      "text/plain": [
       "<AxesSubplot:xlabel='year', ylabel='month_num'>"
      ]
     },
     "execution_count": 188,
     "metadata": {},
     "output_type": "execute_result"
    },
    {
     "data": {
      "image/png": "[encoded data removed]",
      "text/plain": [
       "<Figure size 1080x720 with 2 Axes>"
      ]
     },
     "metadata": {
      "needs_background": "light"
     },
     "output_type": "display_data"
    }
   ],
   "source": [
    "months = {'Jan': 1, 'Feb': 2, 'Mar': 3, 'Apr': 4, 'May': 5, 'Jun': 6, 'Jul': 7, 'Aug': 8, 'Sep': 9, 'Oct': 10, 'Nov': 11, 'Dec': 12}\n",
    "\n",
    "hmap_df = ted.copy()\n",
    "hmap_df['film_date'] = hmap_df['film_date'].apply(lambda x: month_order[int(x.split('-')[1]) - 1] + \" \" + str(x.split('-')[2]))\n",
    "hmap_df = pd.pivot_table(hmap_df[['film_date', 'title']], index = 'film_date', aggfunc='count').reset_index()\n",
    "hmap_df['month_num'] = hmap_df['film_date'].apply(lambda x: months[x.split()[0]])\n",
    "hmap_df['year'] = hmap_df['film_date'].apply(lambda x: x.split()[1])\n",
    "hmap_df = hmap_df.sort_values(['year', 'month_num'])\n",
    "hmap_df = hmap_df[['month_num', 'year', 'title']]\n",
    "hmap_df = hmap_df.pivot('month_num', 'year', 'title')\n",
    "hmap_df = hmap_df.fillna(0)\n",
    "\n",
    "f, ax = plt.subplots(figsize=(15, 10))\n",
    "sns.heatmap(hmap_df, annot = True, linewidths=.5, ax=ax, fmt='n', yticklabels = month_order)\n"
   ]
  },
  {
   "cell_type": "code",
   "execution_count": 190,
   "id": "e6942224",
   "metadata": {},
   "outputs": [
    {
     "data": {
      "text/html": [
       "<div>\n",
       "<style scoped>\n",
       "    .dataframe tbody tr th:only-of-type {\n",
       "        vertical-align: middle;\n",
       "    }\n",
       "\n",
       "    .dataframe tbody tr th {\n",
       "        vertical-align: top;\n",
       "    }\n",
       "\n",
       "    .dataframe thead th {\n",
       "        text-align: right;\n",
       "    }\n",
       "</style>\n",
       "<table border=\"1\" class=\"dataframe\">\n",
       "  <thead>\n",
       "    <tr style=\"text-align: right;\">\n",
       "      <th></th>\n",
       "      <th>演讲者职业</th>\n",
       "      <th>演讲次数</th>\n",
       "    </tr>\n",
       "  </thead>\n",
       "  <tbody>\n",
       "    <tr>\n",
       "      <th>1426</th>\n",
       "      <td>Writer</td>\n",
       "      <td>45</td>\n",
       "    </tr>\n",
       "    <tr>\n",
       "      <th>83</th>\n",
       "      <td>Artist</td>\n",
       "      <td>34</td>\n",
       "    </tr>\n",
       "    <tr>\n",
       "      <th>413</th>\n",
       "      <td>Designer</td>\n",
       "      <td>34</td>\n",
       "    </tr>\n",
       "  </tbody>\n",
       "</table>\n",
       "</div>"
      ],
      "text/plain": [
       "         演讲者职业  演讲次数\n",
       "1426    Writer    45\n",
       "83      Artist    34\n",
       "413   Designer    34"
      ]
     },
     "execution_count": 190,
     "metadata": {},
     "output_type": "execute_result"
    }
   ],
   "source": [
    "occupation_df = ted.groupby('speaker_occupation').count().reset_index()[['speaker_occupation', 'comments']]\n",
    "occupation_df.columns = ['演讲者职业', '演讲次数']\n",
    "occupation_df = occupation_df.sort_values('演讲次数', ascending = False)\n",
    "occupation_df.head(3)"
   ]
  },
  {
   "cell_type": "code",
   "execution_count": 191,
   "id": "4c76a81c",
   "metadata": {
    "scrolled": true
   },
   "outputs": [
    {
     "data": {
      "image/png": "[encoded data removed]",
      "text/plain": [
       "<Figure size 1080x576 with 1 Axes>"
      ]
     },
     "metadata": {
      "needs_background": "light"
     },
     "output_type": "display_data"
    }
   ],
   "source": [
    "# 盒形图\n",
    "### 不同职业演讲者的视频浏览量\n",
    "fig, ax = plt.subplots(nrows = 1, ncols = 1, figsize = (15, 8))\n",
    "ax = sns.boxplot(x = 'speaker_occupation', y = 'views', \n",
    "            data = ted[ted['speaker_occupation'].isin(occupation_df.head(10)['演讲者职业'])], \n",
    "            palette=\"vlag\", ax = ax)\n",
    "ax.set_title(\"不同职业演讲者的视频浏览量\")\n",
    "ax.set_xlabel(\"演讲者职业\")\n",
    "ax.set_ylabel(\"浏览量\")\n",
    "ax.set_ylim([0, 0.4e7])\n",
    "plt.show()"
   ]
  },
  {
   "cell_type": "code",
   "execution_count": null,
   "id": "3ca72e8e",
   "metadata": {},
   "outputs": [],
   "source": []
  }
 ],
 "metadata": {
  "kernelspec": {
   "display_name": "Python 3",
   "language": "python",
   "name": "python3"
  },
  "language_info": {
   "codemirror_mode": {
    "name": "ipython",
    "version": 3
   },
   "file_extension": ".py",
   "mimetype": "text/x-python",
   "name": "python",
   "nbconvert_exporter": "python",
   "pygments_lexer": "ipython3",
   "version": "3.8.8"
  },
  "toc": {
   "base_numbering": 1,
   "nav_menu": {},
   "number_sections": true,
   "sideBar": true,
   "skip_h1_title": false,
   "title_cell": "Table of Contents",
   "title_sidebar": "Contents",
   "toc_cell": false,
   "toc_position": {},
   "toc_section_display": true,
   "toc_window_display": false
  }
 },
 "nbformat": 4,
 "nbformat_minor": 5
}
